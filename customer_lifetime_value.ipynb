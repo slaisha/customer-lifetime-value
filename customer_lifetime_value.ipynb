{
  "nbformat": 4,
  "nbformat_minor": 0,
  "metadata": {
    "colab": {
      "name": "customer-lifetime-value.ipynb",
      "provenance": [],
      "authorship_tag": "ABX9TyO5Kx5faiLPzZPb0yTfC2XL",
      "include_colab_link": true
    },
    "kernelspec": {
      "name": "python3",
      "display_name": "Python 3"
    },
    "language_info": {
      "name": "python"
    }
  },
  "cells": [
    {
      "cell_type": "markdown",
      "metadata": {
        "id": "view-in-github",
        "colab_type": "text"
      },
      "source": [
        "<a href=\"https://colab.research.google.com/github/slaisha/customer-lifetime-value/blob/main/customer_lifetime_value.ipynb\" target=\"_parent\"><img src=\"https://colab.research.google.com/assets/colab-badge.svg\" alt=\"Open In Colab\"/></a>"
      ]
    },
    {
      "cell_type": "code",
      "execution_count": null,
      "metadata": {
        "id": "EGvkm67Alb6x"
      },
      "outputs": [],
      "source": [
        ""
      ]
    }
  ]
}